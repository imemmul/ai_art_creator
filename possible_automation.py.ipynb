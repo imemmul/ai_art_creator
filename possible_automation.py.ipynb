{
 "cells": [
  {
   "cell_type": "code",
   "execution_count": 1,
   "id": "bb8e4cd0",
   "metadata": {},
   "outputs": [],
   "source": [
    "##########################################\n",
    "#THIS SOFTWARE AIMS TO CREATE ART AND AUTOMATE THROUGH GIVEN PARAMETERS.#\n",
    "########my nft creator##########"
   ]
  },
  {
   "cell_type": "markdown",
   "id": "ec0a47a2",
   "metadata": {},
   "source": [
    "AFTER INITILIAZED MODEL AND REPO CURL TO GIVEN FOLDER. IF YOU WANT TO CHECK REFERENCE TO https://colab.research.google.com/drive/1Tw_gOowjYuWMuX122rrXTd-RV3A8u_ZD?usp=sharing#scrollTo=9410kZ2aipVg\n",
    "CHECK HERE AND FOLLOW THE INSTRUCTIONS\n",
    "1. TRY TO RUN SCRIPT IN YOUR COMPUTER\n",
    "2. IF CANNOT RUN OR IT IS TOO SLOW, GO ON WITH COLAB.\n",
    "3. THEN WRITE A JSON FILE OR TEXT FILE TO CREATE AUTOMATED 4 OR 5 WORD SENTENCES IN ORDER TO CREATE YOUR IMAGES\n",
    "4. AUTOMATE ALL THESE THINGS AND OBSERVE.\n",
    "\n",
    "\n",
    "# possible names for your website\n",
    "    \n",
    "    \n",
    "\n",
    "\n",
    "# keywords\n",
    "\n",
    "{{world type}, {adjective}, {property}}\n",
    "\n",
    "{{'cyberpunk', 'medieval', 'futuristic', 'mythologic', 'doom' 'fantasy', 'technologic', 'distopia', 'utopia', 'heaven', 'hell', 'psychedelic', 'metaverse', 'sci-fi'},{'horror', 'shinny', 'moonlight', 'solar', ''},{'by Thomas Kinkade', 'island', 'village', 'community', 'deads', 'mountain', 'cave', 'party', 'jupyter', 'mercury', 'saturn', 'city', 'colony'}}"
   ]
  },
  {
   "cell_type": "code",
   "execution_count": null,
   "id": "6aa2960c",
   "metadata": {},
   "outputs": [],
   "source": []
  }
 ],
 "metadata": {
  "kernelspec": {
   "display_name": "Python 3 (ipykernel)",
   "language": "python",
   "name": "python3"
  },
  "language_info": {
   "codemirror_mode": {
    "name": "ipython",
    "version": 3
   },
   "file_extension": ".py",
   "mimetype": "text/x-python",
   "name": "python",
   "nbconvert_exporter": "python",
   "pygments_lexer": "ipython3",
   "version": "3.9.6"
  }
 },
 "nbformat": 4,
 "nbformat_minor": 5
}
